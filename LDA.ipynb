{
 "cells": [
  {
   "cell_type": "code",
   "execution_count": 1,
   "metadata": {},
   "outputs": [],
   "source": [
    "import numpy as np\n",
    "import matplotlib.pyplot as plt\n",
    "import pandas as pd\n",
    "import math"
   ]
  },
  {
   "cell_type": "markdown",
   "metadata": {},
   "source": [
    "# Read the dataset"
   ]
  },
  {
   "cell_type": "code",
   "execution_count": 2,
   "metadata": {},
   "outputs": [
    {
     "data": {
      "text/html": [
       "<div>\n",
       "<style scoped>\n",
       "    .dataframe tbody tr th:only-of-type {\n",
       "        vertical-align: middle;\n",
       "    }\n",
       "\n",
       "    .dataframe tbody tr th {\n",
       "        vertical-align: top;\n",
       "    }\n",
       "\n",
       "    .dataframe thead th {\n",
       "        text-align: right;\n",
       "    }\n",
       "</style>\n",
       "<table border=\"1\" class=\"dataframe\">\n",
       "  <thead>\n",
       "    <tr style=\"text-align: right;\">\n",
       "      <th></th>\n",
       "      <th>Area</th>\n",
       "      <th>MajorAxisLength</th>\n",
       "      <th>MinorAxisLength</th>\n",
       "      <th>Eccentricity</th>\n",
       "      <th>ConvexArea</th>\n",
       "      <th>Extent</th>\n",
       "      <th>Perimeter</th>\n",
       "      <th>Class</th>\n",
       "    </tr>\n",
       "  </thead>\n",
       "  <tbody>\n",
       "    <tr>\n",
       "      <th>0</th>\n",
       "      <td>87524</td>\n",
       "      <td>442.246011</td>\n",
       "      <td>253.291155</td>\n",
       "      <td>0.819738</td>\n",
       "      <td>90546</td>\n",
       "      <td>0.758651</td>\n",
       "      <td>1184.040</td>\n",
       "      <td>Kecimen</td>\n",
       "    </tr>\n",
       "    <tr>\n",
       "      <th>1</th>\n",
       "      <td>75166</td>\n",
       "      <td>406.690687</td>\n",
       "      <td>243.032436</td>\n",
       "      <td>0.801805</td>\n",
       "      <td>78789</td>\n",
       "      <td>0.684130</td>\n",
       "      <td>1121.786</td>\n",
       "      <td>Kecimen</td>\n",
       "    </tr>\n",
       "    <tr>\n",
       "      <th>2</th>\n",
       "      <td>90856</td>\n",
       "      <td>442.267048</td>\n",
       "      <td>266.328318</td>\n",
       "      <td>0.798354</td>\n",
       "      <td>93717</td>\n",
       "      <td>0.637613</td>\n",
       "      <td>1208.575</td>\n",
       "      <td>Kecimen</td>\n",
       "    </tr>\n",
       "    <tr>\n",
       "      <th>3</th>\n",
       "      <td>45928</td>\n",
       "      <td>286.540559</td>\n",
       "      <td>208.760042</td>\n",
       "      <td>0.684989</td>\n",
       "      <td>47336</td>\n",
       "      <td>0.699599</td>\n",
       "      <td>844.162</td>\n",
       "      <td>Kecimen</td>\n",
       "    </tr>\n",
       "    <tr>\n",
       "      <th>4</th>\n",
       "      <td>79408</td>\n",
       "      <td>352.190770</td>\n",
       "      <td>290.827533</td>\n",
       "      <td>0.564011</td>\n",
       "      <td>81463</td>\n",
       "      <td>0.792772</td>\n",
       "      <td>1073.251</td>\n",
       "      <td>Kecimen</td>\n",
       "    </tr>\n",
       "  </tbody>\n",
       "</table>\n",
       "</div>"
      ],
      "text/plain": [
       "    Area  MajorAxisLength  MinorAxisLength  Eccentricity  ConvexArea  \\\n",
       "0  87524       442.246011       253.291155      0.819738       90546   \n",
       "1  75166       406.690687       243.032436      0.801805       78789   \n",
       "2  90856       442.267048       266.328318      0.798354       93717   \n",
       "3  45928       286.540559       208.760042      0.684989       47336   \n",
       "4  79408       352.190770       290.827533      0.564011       81463   \n",
       "\n",
       "     Extent  Perimeter    Class  \n",
       "0  0.758651   1184.040  Kecimen  \n",
       "1  0.684130   1121.786  Kecimen  \n",
       "2  0.637613   1208.575  Kecimen  \n",
       "3  0.699599    844.162  Kecimen  \n",
       "4  0.792772   1073.251  Kecimen  "
      ]
     },
     "execution_count": 2,
     "metadata": {},
     "output_type": "execute_result"
    }
   ],
   "source": [
    "df = pd.read_excel('Raisin_Dataset.xlsx')\n",
    "df.head()"
   ]
  },
  {
   "cell_type": "markdown",
   "metadata": {},
   "source": [
    "### Check the classes\n",
    "\n",
    "We have 2 classes."
   ]
  },
  {
   "cell_type": "code",
   "execution_count": 3,
   "metadata": {},
   "outputs": [
    {
     "data": {
      "text/plain": [
       "array(['Kecimen', 'Besni'], dtype=object)"
      ]
     },
     "execution_count": 3,
     "metadata": {},
     "output_type": "execute_result"
    }
   ],
   "source": [
    "df[\"Class\"].unique()"
   ]
  },
  {
   "cell_type": "markdown",
   "metadata": {},
   "source": [
    "## Separate two classes"
   ]
  },
  {
   "cell_type": "code",
   "execution_count": 4,
   "metadata": {},
   "outputs": [],
   "source": [
    "dfs = [x for _, x in df.groupby('Class')]\n",
    "df0 = dfs[1].reset_index(drop=True)\n",
    "df1 = dfs[0].drop(columns=[\"Class\"]).reset_index(drop=True)"
   ]
  },
  {
   "cell_type": "code",
   "execution_count": 5,
   "metadata": {},
   "outputs": [
    {
     "data": {
      "text/html": [
       "<div>\n",
       "<style scoped>\n",
       "    .dataframe tbody tr th:only-of-type {\n",
       "        vertical-align: middle;\n",
       "    }\n",
       "\n",
       "    .dataframe tbody tr th {\n",
       "        vertical-align: top;\n",
       "    }\n",
       "\n",
       "    .dataframe thead th {\n",
       "        text-align: right;\n",
       "    }\n",
       "</style>\n",
       "<table border=\"1\" class=\"dataframe\">\n",
       "  <thead>\n",
       "    <tr style=\"text-align: right;\">\n",
       "      <th></th>\n",
       "      <th>Area</th>\n",
       "      <th>MajorAxisLength</th>\n",
       "      <th>MinorAxisLength</th>\n",
       "      <th>Eccentricity</th>\n",
       "      <th>ConvexArea</th>\n",
       "      <th>Extent</th>\n",
       "      <th>Perimeter</th>\n",
       "      <th>Class</th>\n",
       "    </tr>\n",
       "  </thead>\n",
       "  <tbody>\n",
       "    <tr>\n",
       "      <th>0</th>\n",
       "      <td>87524</td>\n",
       "      <td>442.246011</td>\n",
       "      <td>253.291155</td>\n",
       "      <td>0.819738</td>\n",
       "      <td>90546</td>\n",
       "      <td>0.758651</td>\n",
       "      <td>1184.040</td>\n",
       "      <td>Kecimen</td>\n",
       "    </tr>\n",
       "    <tr>\n",
       "      <th>1</th>\n",
       "      <td>75166</td>\n",
       "      <td>406.690687</td>\n",
       "      <td>243.032436</td>\n",
       "      <td>0.801805</td>\n",
       "      <td>78789</td>\n",
       "      <td>0.684130</td>\n",
       "      <td>1121.786</td>\n",
       "      <td>Kecimen</td>\n",
       "    </tr>\n",
       "    <tr>\n",
       "      <th>2</th>\n",
       "      <td>90856</td>\n",
       "      <td>442.267048</td>\n",
       "      <td>266.328318</td>\n",
       "      <td>0.798354</td>\n",
       "      <td>93717</td>\n",
       "      <td>0.637613</td>\n",
       "      <td>1208.575</td>\n",
       "      <td>Kecimen</td>\n",
       "    </tr>\n",
       "    <tr>\n",
       "      <th>3</th>\n",
       "      <td>45928</td>\n",
       "      <td>286.540559</td>\n",
       "      <td>208.760042</td>\n",
       "      <td>0.684989</td>\n",
       "      <td>47336</td>\n",
       "      <td>0.699599</td>\n",
       "      <td>844.162</td>\n",
       "      <td>Kecimen</td>\n",
       "    </tr>\n",
       "    <tr>\n",
       "      <th>4</th>\n",
       "      <td>79408</td>\n",
       "      <td>352.190770</td>\n",
       "      <td>290.827533</td>\n",
       "      <td>0.564011</td>\n",
       "      <td>81463</td>\n",
       "      <td>0.792772</td>\n",
       "      <td>1073.251</td>\n",
       "      <td>Kecimen</td>\n",
       "    </tr>\n",
       "  </tbody>\n",
       "</table>\n",
       "</div>"
      ],
      "text/plain": [
       "    Area  MajorAxisLength  MinorAxisLength  Eccentricity  ConvexArea  \\\n",
       "0  87524       442.246011       253.291155      0.819738       90546   \n",
       "1  75166       406.690687       243.032436      0.801805       78789   \n",
       "2  90856       442.267048       266.328318      0.798354       93717   \n",
       "3  45928       286.540559       208.760042      0.684989       47336   \n",
       "4  79408       352.190770       290.827533      0.564011       81463   \n",
       "\n",
       "     Extent  Perimeter    Class  \n",
       "0  0.758651   1184.040  Kecimen  \n",
       "1  0.684130   1121.786  Kecimen  \n",
       "2  0.637613   1208.575  Kecimen  \n",
       "3  0.699599    844.162  Kecimen  \n",
       "4  0.792772   1073.251  Kecimen  "
      ]
     },
     "execution_count": 5,
     "metadata": {},
     "output_type": "execute_result"
    }
   ],
   "source": [
    "df0.head()"
   ]
  },
  {
   "cell_type": "markdown",
   "metadata": {},
   "source": [
    "### Assign class  number to each class"
   ]
  },
  {
   "cell_type": "code",
   "execution_count": 6,
   "metadata": {},
   "outputs": [],
   "source": [
    "df0[\"Class\"] = 0\n",
    "df1[\"Class\"] = 1"
   ]
  },
  {
   "cell_type": "markdown",
   "metadata": {},
   "source": [
    "# Prepare train and test sets\n",
    "\n",
    "80\\% in train and 20\\% in test"
   ]
  },
  {
   "cell_type": "code",
   "execution_count": 7,
   "metadata": {},
   "outputs": [],
   "source": [
    "train_df0 = df0.iloc[0: int(len(df0)*0.8)]\n",
    "train_df1 = df1.iloc[0: int(len(df1)*0.8)]"
   ]
  },
  {
   "cell_type": "code",
   "execution_count": 8,
   "metadata": {},
   "outputs": [
    {
     "data": {
      "text/html": [
       "<div>\n",
       "<style scoped>\n",
       "    .dataframe tbody tr th:only-of-type {\n",
       "        vertical-align: middle;\n",
       "    }\n",
       "\n",
       "    .dataframe tbody tr th {\n",
       "        vertical-align: top;\n",
       "    }\n",
       "\n",
       "    .dataframe thead th {\n",
       "        text-align: right;\n",
       "    }\n",
       "</style>\n",
       "<table border=\"1\" class=\"dataframe\">\n",
       "  <thead>\n",
       "    <tr style=\"text-align: right;\">\n",
       "      <th></th>\n",
       "      <th>Area</th>\n",
       "      <th>MajorAxisLength</th>\n",
       "      <th>MinorAxisLength</th>\n",
       "      <th>Eccentricity</th>\n",
       "      <th>ConvexArea</th>\n",
       "      <th>Extent</th>\n",
       "      <th>Perimeter</th>\n",
       "    </tr>\n",
       "  </thead>\n",
       "  <tbody>\n",
       "    <tr>\n",
       "      <th>0</th>\n",
       "      <td>87524</td>\n",
       "      <td>442.246011</td>\n",
       "      <td>253.291155</td>\n",
       "      <td>0.819738</td>\n",
       "      <td>90546</td>\n",
       "      <td>0.758651</td>\n",
       "      <td>1184.040</td>\n",
       "    </tr>\n",
       "    <tr>\n",
       "      <th>1</th>\n",
       "      <td>75166</td>\n",
       "      <td>406.690687</td>\n",
       "      <td>243.032436</td>\n",
       "      <td>0.801805</td>\n",
       "      <td>78789</td>\n",
       "      <td>0.684130</td>\n",
       "      <td>1121.786</td>\n",
       "    </tr>\n",
       "    <tr>\n",
       "      <th>2</th>\n",
       "      <td>90856</td>\n",
       "      <td>442.267048</td>\n",
       "      <td>266.328318</td>\n",
       "      <td>0.798354</td>\n",
       "      <td>93717</td>\n",
       "      <td>0.637613</td>\n",
       "      <td>1208.575</td>\n",
       "    </tr>\n",
       "    <tr>\n",
       "      <th>3</th>\n",
       "      <td>45928</td>\n",
       "      <td>286.540559</td>\n",
       "      <td>208.760042</td>\n",
       "      <td>0.684989</td>\n",
       "      <td>47336</td>\n",
       "      <td>0.699599</td>\n",
       "      <td>844.162</td>\n",
       "    </tr>\n",
       "    <tr>\n",
       "      <th>4</th>\n",
       "      <td>79408</td>\n",
       "      <td>352.190770</td>\n",
       "      <td>290.827533</td>\n",
       "      <td>0.564011</td>\n",
       "      <td>81463</td>\n",
       "      <td>0.792772</td>\n",
       "      <td>1073.251</td>\n",
       "    </tr>\n",
       "    <tr>\n",
       "      <th>...</th>\n",
       "      <td>...</td>\n",
       "      <td>...</td>\n",
       "      <td>...</td>\n",
       "      <td>...</td>\n",
       "      <td>...</td>\n",
       "      <td>...</td>\n",
       "      <td>...</td>\n",
       "    </tr>\n",
       "    <tr>\n",
       "      <th>715</th>\n",
       "      <td>56244</td>\n",
       "      <td>398.802452</td>\n",
       "      <td>182.844046</td>\n",
       "      <td>0.888703</td>\n",
       "      <td>58530</td>\n",
       "      <td>0.656366</td>\n",
       "      <td>1008.134</td>\n",
       "    </tr>\n",
       "    <tr>\n",
       "      <th>716</th>\n",
       "      <td>142239</td>\n",
       "      <td>614.834478</td>\n",
       "      <td>297.735347</td>\n",
       "      <td>0.874928</td>\n",
       "      <td>148078</td>\n",
       "      <td>0.643516</td>\n",
       "      <td>1553.114</td>\n",
       "    </tr>\n",
       "    <tr>\n",
       "      <th>717</th>\n",
       "      <td>78632</td>\n",
       "      <td>407.940329</td>\n",
       "      <td>245.821198</td>\n",
       "      <td>0.798050</td>\n",
       "      <td>79715</td>\n",
       "      <td>0.689011</td>\n",
       "      <td>1068.727</td>\n",
       "    </tr>\n",
       "    <tr>\n",
       "      <th>718</th>\n",
       "      <td>93430</td>\n",
       "      <td>467.637119</td>\n",
       "      <td>258.947168</td>\n",
       "      <td>0.832693</td>\n",
       "      <td>98337</td>\n",
       "      <td>0.712988</td>\n",
       "      <td>1258.966</td>\n",
       "    </tr>\n",
       "    <tr>\n",
       "      <th>719</th>\n",
       "      <td>97583</td>\n",
       "      <td>522.786556</td>\n",
       "      <td>241.940773</td>\n",
       "      <td>0.886468</td>\n",
       "      <td>101231</td>\n",
       "      <td>0.725983</td>\n",
       "      <td>1298.731</td>\n",
       "    </tr>\n",
       "  </tbody>\n",
       "</table>\n",
       "<p>720 rows × 7 columns</p>\n",
       "</div>"
      ],
      "text/plain": [
       "       Area  MajorAxisLength  MinorAxisLength  Eccentricity  ConvexArea  \\\n",
       "0     87524       442.246011       253.291155      0.819738       90546   \n",
       "1     75166       406.690687       243.032436      0.801805       78789   \n",
       "2     90856       442.267048       266.328318      0.798354       93717   \n",
       "3     45928       286.540559       208.760042      0.684989       47336   \n",
       "4     79408       352.190770       290.827533      0.564011       81463   \n",
       "..      ...              ...              ...           ...         ...   \n",
       "715   56244       398.802452       182.844046      0.888703       58530   \n",
       "716  142239       614.834478       297.735347      0.874928      148078   \n",
       "717   78632       407.940329       245.821198      0.798050       79715   \n",
       "718   93430       467.637119       258.947168      0.832693       98337   \n",
       "719   97583       522.786556       241.940773      0.886468      101231   \n",
       "\n",
       "       Extent  Perimeter  \n",
       "0    0.758651   1184.040  \n",
       "1    0.684130   1121.786  \n",
       "2    0.637613   1208.575  \n",
       "3    0.699599    844.162  \n",
       "4    0.792772   1073.251  \n",
       "..        ...        ...  \n",
       "715  0.656366   1008.134  \n",
       "716  0.643516   1553.114  \n",
       "717  0.689011   1068.727  \n",
       "718  0.712988   1258.966  \n",
       "719  0.725983   1298.731  \n",
       "\n",
       "[720 rows x 7 columns]"
      ]
     },
     "execution_count": 8,
     "metadata": {},
     "output_type": "execute_result"
    }
   ],
   "source": [
    "X_train = pd.concat([train_df0.drop(columns=[\"Class\"]), train_df1.drop(columns=[\"Class\"])]).reset_index(drop=True)\n",
    "X_train"
   ]
  },
  {
   "cell_type": "code",
   "execution_count": 9,
   "metadata": {},
   "outputs": [
    {
     "data": {
      "text/plain": [
       "0      0\n",
       "1      0\n",
       "2      0\n",
       "3      0\n",
       "4      0\n",
       "      ..\n",
       "355    1\n",
       "356    1\n",
       "357    1\n",
       "358    1\n",
       "359    1\n",
       "Name: Class, Length: 720, dtype: int64"
      ]
     },
     "execution_count": 9,
     "metadata": {},
     "output_type": "execute_result"
    }
   ],
   "source": [
    "y_train = pd.concat([train_df0[\"Class\"], train_df1[\"Class\"]])\n",
    "y_train"
   ]
  },
  {
   "cell_type": "code",
   "execution_count": 10,
   "metadata": {},
   "outputs": [],
   "source": [
    "test_df0 = df0.iloc[int(len(df0)*0.8):]\n",
    "test_df1 = df1.iloc[int(len(df1)*0.8):]"
   ]
  },
  {
   "cell_type": "code",
   "execution_count": 11,
   "metadata": {},
   "outputs": [],
   "source": [
    "X_test = pd.concat([test_df0.drop(columns=[\"Class\"]), test_df1.drop(columns=[\"Class\"])]).reset_index(drop=True)\n",
    "y_test = pd.concat([test_df0[\"Class\"], test_df1[\"Class\"]])"
   ]
  },
  {
   "cell_type": "markdown",
   "metadata": {},
   "source": [
    "# Standardize the dataset\n",
    "\n",
    "Before preparing the model, the entire dataset need to be standardized. Only train set mean and standard deviation are used to standardize the dataset to avoid potential bias. Each feature/attribute $(X_i)$ is subtracted by its mean $\\mu$ and divided by its standard deviation $\\sigma$. \n",
    "\n",
    "$\\mu = \\frac{1}{N} * X_i$\\\n",
    "$X_i = (X_i - \\mu) / \\sigma$"
   ]
  },
  {
   "cell_type": "code",
   "execution_count": 12,
   "metadata": {},
   "outputs": [],
   "source": [
    "mean_train = X_train.mean()\n",
    "std_train = X_train.std()"
   ]
  },
  {
   "cell_type": "code",
   "execution_count": 13,
   "metadata": {},
   "outputs": [
    {
     "data": {
      "text/plain": [
       "Area               88043.401389\n",
       "MajorAxisLength      432.215772\n",
       "MinorAxisLength      254.705362\n",
       "Eccentricity           0.780984\n",
       "ConvexArea         91495.638889\n",
       "Extent                 0.698941\n",
       "Perimeter           1169.716692\n",
       "dtype: float64"
      ]
     },
     "execution_count": 13,
     "metadata": {},
     "output_type": "execute_result"
    }
   ],
   "source": [
    "mean_train"
   ]
  },
  {
   "cell_type": "code",
   "execution_count": 14,
   "metadata": {},
   "outputs": [
    {
     "data": {
      "text/plain": [
       "Area               38921.340363\n",
       "MajorAxisLength      117.019632\n",
       "MinorAxisLength       49.308385\n",
       "Eccentricity           0.093355\n",
       "ConvexArea         40763.058741\n",
       "Extent                 0.054117\n",
       "Perimeter            274.748746\n",
       "dtype: float64"
      ]
     },
     "execution_count": 14,
     "metadata": {},
     "output_type": "execute_result"
    }
   ],
   "source": [
    "std_train"
   ]
  },
  {
   "cell_type": "code",
   "execution_count": 15,
   "metadata": {},
   "outputs": [
    {
     "data": {
      "text/html": [
       "<div>\n",
       "<style scoped>\n",
       "    .dataframe tbody tr th:only-of-type {\n",
       "        vertical-align: middle;\n",
       "    }\n",
       "\n",
       "    .dataframe tbody tr th {\n",
       "        vertical-align: top;\n",
       "    }\n",
       "\n",
       "    .dataframe thead th {\n",
       "        text-align: right;\n",
       "    }\n",
       "</style>\n",
       "<table border=\"1\" class=\"dataframe\">\n",
       "  <thead>\n",
       "    <tr style=\"text-align: right;\">\n",
       "      <th></th>\n",
       "      <th>Area</th>\n",
       "      <th>MajorAxisLength</th>\n",
       "      <th>MinorAxisLength</th>\n",
       "      <th>Eccentricity</th>\n",
       "      <th>ConvexArea</th>\n",
       "      <th>Extent</th>\n",
       "      <th>Perimeter</th>\n",
       "    </tr>\n",
       "  </thead>\n",
       "  <tbody>\n",
       "    <tr>\n",
       "      <th>0</th>\n",
       "      <td>-0.013345</td>\n",
       "      <td>0.085714</td>\n",
       "      <td>-0.028681</td>\n",
       "      <td>0.415126</td>\n",
       "      <td>-0.023297</td>\n",
       "      <td>1.103335</td>\n",
       "      <td>0.052132</td>\n",
       "    </tr>\n",
       "    <tr>\n",
       "      <th>1</th>\n",
       "      <td>-0.330857</td>\n",
       "      <td>-0.218127</td>\n",
       "      <td>-0.236733</td>\n",
       "      <td>0.223030</td>\n",
       "      <td>-0.311719</td>\n",
       "      <td>-0.273694</td>\n",
       "      <td>-0.174453</td>\n",
       "    </tr>\n",
       "    <tr>\n",
       "      <th>2</th>\n",
       "      <td>0.072264</td>\n",
       "      <td>0.085894</td>\n",
       "      <td>0.235720</td>\n",
       "      <td>0.186058</td>\n",
       "      <td>0.054494</td>\n",
       "      <td>-1.133249</td>\n",
       "      <td>0.141432</td>\n",
       "    </tr>\n",
       "    <tr>\n",
       "      <th>3</th>\n",
       "      <td>-1.082065</td>\n",
       "      <td>-1.244878</td>\n",
       "      <td>-0.931795</td>\n",
       "      <td>-1.028276</td>\n",
       "      <td>-1.083325</td>\n",
       "      <td>0.012163</td>\n",
       "      <td>-1.184918</td>\n",
       "    </tr>\n",
       "    <tr>\n",
       "      <th>4</th>\n",
       "      <td>-0.221868</td>\n",
       "      <td>-0.683860</td>\n",
       "      <td>0.732577</td>\n",
       "      <td>-2.324163</td>\n",
       "      <td>-0.246121</td>\n",
       "      <td>1.733843</td>\n",
       "      <td>-0.351105</td>\n",
       "    </tr>\n",
       "  </tbody>\n",
       "</table>\n",
       "</div>"
      ],
      "text/plain": [
       "       Area  MajorAxisLength  MinorAxisLength  Eccentricity  ConvexArea  \\\n",
       "0 -0.013345         0.085714        -0.028681      0.415126   -0.023297   \n",
       "1 -0.330857        -0.218127        -0.236733      0.223030   -0.311719   \n",
       "2  0.072264         0.085894         0.235720      0.186058    0.054494   \n",
       "3 -1.082065        -1.244878        -0.931795     -1.028276   -1.083325   \n",
       "4 -0.221868        -0.683860         0.732577     -2.324163   -0.246121   \n",
       "\n",
       "     Extent  Perimeter  \n",
       "0  1.103335   0.052132  \n",
       "1 -0.273694  -0.174453  \n",
       "2 -1.133249   0.141432  \n",
       "3  0.012163  -1.184918  \n",
       "4  1.733843  -0.351105  "
      ]
     },
     "execution_count": 15,
     "metadata": {},
     "output_type": "execute_result"
    }
   ],
   "source": [
    "X_train_standard = (X_train - mean_train)/ std_train\n",
    "X_train_standard.head()"
   ]
  },
  {
   "cell_type": "code",
   "execution_count": 16,
   "metadata": {},
   "outputs": [
    {
     "data": {
      "text/html": [
       "<div>\n",
       "<style scoped>\n",
       "    .dataframe tbody tr th:only-of-type {\n",
       "        vertical-align: middle;\n",
       "    }\n",
       "\n",
       "    .dataframe tbody tr th {\n",
       "        vertical-align: top;\n",
       "    }\n",
       "\n",
       "    .dataframe thead th {\n",
       "        text-align: right;\n",
       "    }\n",
       "</style>\n",
       "<table border=\"1\" class=\"dataframe\">\n",
       "  <thead>\n",
       "    <tr style=\"text-align: right;\">\n",
       "      <th></th>\n",
       "      <th>Area</th>\n",
       "      <th>MajorAxisLength</th>\n",
       "      <th>MinorAxisLength</th>\n",
       "      <th>Eccentricity</th>\n",
       "      <th>ConvexArea</th>\n",
       "      <th>Extent</th>\n",
       "      <th>Perimeter</th>\n",
       "    </tr>\n",
       "  </thead>\n",
       "  <tbody>\n",
       "    <tr>\n",
       "      <th>0</th>\n",
       "      <td>-1.008043</td>\n",
       "      <td>-0.854138</td>\n",
       "      <td>-1.305133</td>\n",
       "      <td>0.413987</td>\n",
       "      <td>-0.972661</td>\n",
       "      <td>-0.694778</td>\n",
       "      <td>-0.879715</td>\n",
       "    </tr>\n",
       "    <tr>\n",
       "      <th>1</th>\n",
       "      <td>-1.002134</td>\n",
       "      <td>-1.254607</td>\n",
       "      <td>-0.687215</td>\n",
       "      <td>-1.579456</td>\n",
       "      <td>-0.996408</td>\n",
       "      <td>0.292508</td>\n",
       "      <td>-1.194003</td>\n",
       "    </tr>\n",
       "    <tr>\n",
       "      <th>2</th>\n",
       "      <td>-0.600555</td>\n",
       "      <td>-0.577963</td>\n",
       "      <td>-0.525359</td>\n",
       "      <td>-0.025955</td>\n",
       "      <td>-0.588073</td>\n",
       "      <td>-0.796336</td>\n",
       "      <td>-0.633396</td>\n",
       "    </tr>\n",
       "    <tr>\n",
       "      <th>3</th>\n",
       "      <td>0.393964</td>\n",
       "      <td>0.243161</td>\n",
       "      <td>0.675094</td>\n",
       "      <td>-0.005231</td>\n",
       "      <td>0.345248</td>\n",
       "      <td>0.517888</td>\n",
       "      <td>0.220261</td>\n",
       "    </tr>\n",
       "    <tr>\n",
       "      <th>4</th>\n",
       "      <td>-0.361534</td>\n",
       "      <td>-0.623341</td>\n",
       "      <td>0.174981</td>\n",
       "      <td>-1.078837</td>\n",
       "      <td>-0.396011</td>\n",
       "      <td>1.031061</td>\n",
       "      <td>-0.553115</td>\n",
       "    </tr>\n",
       "  </tbody>\n",
       "</table>\n",
       "</div>"
      ],
      "text/plain": [
       "       Area  MajorAxisLength  MinorAxisLength  Eccentricity  ConvexArea  \\\n",
       "0 -1.008043        -0.854138        -1.305133      0.413987   -0.972661   \n",
       "1 -1.002134        -1.254607        -0.687215     -1.579456   -0.996408   \n",
       "2 -0.600555        -0.577963        -0.525359     -0.025955   -0.588073   \n",
       "3  0.393964         0.243161         0.675094     -0.005231    0.345248   \n",
       "4 -0.361534        -0.623341         0.174981     -1.078837   -0.396011   \n",
       "\n",
       "     Extent  Perimeter  \n",
       "0 -0.694778  -0.879715  \n",
       "1  0.292508  -1.194003  \n",
       "2 -0.796336  -0.633396  \n",
       "3  0.517888   0.220261  \n",
       "4  1.031061  -0.553115  "
      ]
     },
     "execution_count": 16,
     "metadata": {},
     "output_type": "execute_result"
    }
   ],
   "source": [
    "X_test_standard = (X_test - mean_train)/ std_train\n",
    "X_test_standard.head()"
   ]
  },
  {
   "cell_type": "markdown",
   "metadata": {},
   "source": [
    "# Prepare the LDA algorithm\n",
    "\n",
    "Final prediction for a give instance x: $p(y=1|x,\\theta) = sigmoid(\\beta_1 - \\beta_0)^Tx + (\\gamma_1 - \\gamma_0)$ \n",
    "\n",
    "Steps to follow:\n",
    "\n",
    "* Calculate prior probabilities\n",
    "* Calculate mean of each class\n",
    "* Calculate covariance of each class\n",
    "* Calculate shared cavariance\n",
    "* Calculate $\\gamma$ and $\\beta$ of each class\n",
    "\n",
    "All of the above steps must be done only for train set. Read bellow cells to understand each step."
   ]
  },
  {
   "cell_type": "markdown",
   "metadata": {},
   "source": [
    "### Calculate prior probabilities from the train set\n",
    "\n",
    "$\\pi_c = N_c / N$\n",
    "\n",
    "$N_c$ = number of instance in class c\\\n",
    "$N$ = total number of instance"
   ]
  },
  {
   "cell_type": "code",
   "execution_count": 17,
   "metadata": {},
   "outputs": [],
   "source": [
    "N = len(X_train)\n",
    "N0 = len(train_df0)\n",
    "N1 = len(train_df1)\n",
    "\n",
    "# Prior probability\n",
    "prior0 = N0/N\n",
    "prior1 = N1/N\n",
    "\n",
    "# number of features\n",
    "dim = len(X_train.columns)"
   ]
  },
  {
   "cell_type": "markdown",
   "metadata": {},
   "source": [
    "## Calculate mean of the standardized dataset"
   ]
  },
  {
   "cell_type": "code",
   "execution_count": 18,
   "metadata": {},
   "outputs": [],
   "source": [
    "mean0 = X_train_standard.iloc[:N0].mean() # mean of class 0\n",
    "mean1 = X_train_standard.iloc[N0:].mean() # mean of class 1"
   ]
  },
  {
   "cell_type": "code",
   "execution_count": 19,
   "metadata": {},
   "outputs": [
    {
     "data": {
      "text/plain": [
       "Area              -0.635454\n",
       "MajorAxisLength   -0.683382\n",
       "MinorAxisLength   -0.505047\n",
       "Eccentricity      -0.463720\n",
       "ConvexArea        -0.634048\n",
       "Extent             0.177058\n",
       "Perimeter         -0.674763\n",
       "dtype: float64"
      ]
     },
     "execution_count": 19,
     "metadata": {},
     "output_type": "execute_result"
    }
   ],
   "source": [
    "mean0"
   ]
  },
  {
   "cell_type": "code",
   "execution_count": 20,
   "metadata": {},
   "outputs": [
    {
     "data": {
      "text/plain": [
       "Area               0.635454\n",
       "MajorAxisLength    0.683382\n",
       "MinorAxisLength    0.505047\n",
       "Eccentricity       0.463720\n",
       "ConvexArea         0.634048\n",
       "Extent            -0.177058\n",
       "Perimeter          0.674763\n",
       "dtype: float64"
      ]
     },
     "execution_count": 20,
     "metadata": {},
     "output_type": "execute_result"
    }
   ],
   "source": [
    "mean1"
   ]
  },
  {
   "cell_type": "markdown",
   "metadata": {},
   "source": [
    "### Covariance matrix of class 0\n",
    "\n",
    "$ covariance_c = \\frac{1}{N_c}*\\sum_{i=1}^{N_c} (x_i - \\mu_c) * (x_i - \\mu_c)^T $\n",
    "\n",
    "Here,\n",
    "$N_c$ = total number of instance in class c\\\n",
    "$\\mu_c$ = mean of class c\\\n",
    "$x_i$ = instance i of class c"
   ]
  },
  {
   "cell_type": "code",
   "execution_count": 21,
   "metadata": {},
   "outputs": [
    {
     "data": {
      "text/html": [
       "<div>\n",
       "<style scoped>\n",
       "    .dataframe tbody tr th:only-of-type {\n",
       "        vertical-align: middle;\n",
       "    }\n",
       "\n",
       "    .dataframe tbody tr th {\n",
       "        vertical-align: top;\n",
       "    }\n",
       "\n",
       "    .dataframe thead th {\n",
       "        text-align: right;\n",
       "    }\n",
       "</style>\n",
       "<table border=\"1\" class=\"dataframe\">\n",
       "  <thead>\n",
       "    <tr style=\"text-align: right;\">\n",
       "      <th></th>\n",
       "      <th>Area</th>\n",
       "      <th>MajorAxisLength</th>\n",
       "      <th>MinorAxisLength</th>\n",
       "      <th>Eccentricity</th>\n",
       "      <th>ConvexArea</th>\n",
       "      <th>Extent</th>\n",
       "      <th>Perimeter</th>\n",
       "    </tr>\n",
       "  </thead>\n",
       "  <tbody>\n",
       "    <tr>\n",
       "      <th>Area</th>\n",
       "      <td>0.203771</td>\n",
       "      <td>0.212053</td>\n",
       "      <td>0.256834</td>\n",
       "      <td>0.059906</td>\n",
       "      <td>0.209709</td>\n",
       "      <td>-0.022176</td>\n",
       "      <td>0.239897</td>\n",
       "    </tr>\n",
       "    <tr>\n",
       "      <th>MajorAxisLength</th>\n",
       "      <td>0.212053</td>\n",
       "      <td>0.273188</td>\n",
       "      <td>0.193276</td>\n",
       "      <td>0.269869</td>\n",
       "      <td>0.225140</td>\n",
       "      <td>-0.110807</td>\n",
       "      <td>0.277821</td>\n",
       "    </tr>\n",
       "    <tr>\n",
       "      <th>MinorAxisLength</th>\n",
       "      <td>0.256834</td>\n",
       "      <td>0.193276</td>\n",
       "      <td>0.442563</td>\n",
       "      <td>-0.248361</td>\n",
       "      <td>0.256524</td>\n",
       "      <td>0.094984</td>\n",
       "      <td>0.270437</td>\n",
       "    </tr>\n",
       "    <tr>\n",
       "      <th>Eccentricity</th>\n",
       "      <td>0.059906</td>\n",
       "      <td>0.269869</td>\n",
       "      <td>-0.248361</td>\n",
       "      <td>1.070258</td>\n",
       "      <td>0.071640</td>\n",
       "      <td>-0.319448</td>\n",
       "      <td>0.150196</td>\n",
       "    </tr>\n",
       "    <tr>\n",
       "      <th>ConvexArea</th>\n",
       "      <td>0.209709</td>\n",
       "      <td>0.225140</td>\n",
       "      <td>0.256524</td>\n",
       "      <td>0.071640</td>\n",
       "      <td>0.219973</td>\n",
       "      <td>-0.046739</td>\n",
       "      <td>0.255736</td>\n",
       "    </tr>\n",
       "    <tr>\n",
       "      <th>Extent</th>\n",
       "      <td>-0.022176</td>\n",
       "      <td>-0.110807</td>\n",
       "      <td>0.094984</td>\n",
       "      <td>-0.319448</td>\n",
       "      <td>-0.046739</td>\n",
       "      <td>0.672236</td>\n",
       "      <td>-0.100491</td>\n",
       "    </tr>\n",
       "    <tr>\n",
       "      <th>Perimeter</th>\n",
       "      <td>0.239897</td>\n",
       "      <td>0.277821</td>\n",
       "      <td>0.270437</td>\n",
       "      <td>0.150196</td>\n",
       "      <td>0.255736</td>\n",
       "      <td>-0.100491</td>\n",
       "      <td>0.310083</td>\n",
       "    </tr>\n",
       "  </tbody>\n",
       "</table>\n",
       "</div>"
      ],
      "text/plain": [
       "                     Area  MajorAxisLength  MinorAxisLength  Eccentricity  \\\n",
       "Area             0.203771         0.212053         0.256834      0.059906   \n",
       "MajorAxisLength  0.212053         0.273188         0.193276      0.269869   \n",
       "MinorAxisLength  0.256834         0.193276         0.442563     -0.248361   \n",
       "Eccentricity     0.059906         0.269869        -0.248361      1.070258   \n",
       "ConvexArea       0.209709         0.225140         0.256524      0.071640   \n",
       "Extent          -0.022176        -0.110807         0.094984     -0.319448   \n",
       "Perimeter        0.239897         0.277821         0.270437      0.150196   \n",
       "\n",
       "                 ConvexArea    Extent  Perimeter  \n",
       "Area               0.209709 -0.022176   0.239897  \n",
       "MajorAxisLength    0.225140 -0.110807   0.277821  \n",
       "MinorAxisLength    0.256524  0.094984   0.270437  \n",
       "Eccentricity       0.071640 -0.319448   0.150196  \n",
       "ConvexArea         0.219973 -0.046739   0.255736  \n",
       "Extent            -0.046739  0.672236  -0.100491  \n",
       "Perimeter          0.255736 -0.100491   0.310083  "
      ]
     },
     "execution_count": 21,
     "metadata": {},
     "output_type": "execute_result"
    }
   ],
   "source": [
    "cov0 = (X_train_standard.iloc[:N0] - mean0).T @ (X_train_standard.iloc[:N0] - mean0)\n",
    "\n",
    "cov0 = cov0/N0\n",
    "cov0"
   ]
  },
  {
   "cell_type": "markdown",
   "metadata": {},
   "source": [
    "### Covariance matrix of class 1"
   ]
  },
  {
   "cell_type": "code",
   "execution_count": 22,
   "metadata": {},
   "outputs": [
    {
     "data": {
      "text/html": [
       "<div>\n",
       "<style scoped>\n",
       "    .dataframe tbody tr th:only-of-type {\n",
       "        vertical-align: middle;\n",
       "    }\n",
       "\n",
       "    .dataframe tbody tr th {\n",
       "        vertical-align: top;\n",
       "    }\n",
       "\n",
       "    .dataframe thead th {\n",
       "        text-align: right;\n",
       "    }\n",
       "</style>\n",
       "<table border=\"1\" class=\"dataframe\">\n",
       "  <thead>\n",
       "    <tr style=\"text-align: right;\">\n",
       "      <th></th>\n",
       "      <th>Area</th>\n",
       "      <th>MajorAxisLength</th>\n",
       "      <th>MinorAxisLength</th>\n",
       "      <th>Eccentricity</th>\n",
       "      <th>ConvexArea</th>\n",
       "      <th>Extent</th>\n",
       "      <th>Perimeter</th>\n",
       "    </tr>\n",
       "  </thead>\n",
       "  <tbody>\n",
       "    <tr>\n",
       "      <th>Area</th>\n",
       "      <td>0.985847</td>\n",
       "      <td>0.782949</td>\n",
       "      <td>0.907188</td>\n",
       "      <td>0.068332</td>\n",
       "      <td>0.973028</td>\n",
       "      <td>0.195394</td>\n",
       "      <td>0.820604</td>\n",
       "    </tr>\n",
       "    <tr>\n",
       "      <th>MajorAxisLength</th>\n",
       "      <td>0.782949</td>\n",
       "      <td>0.790014</td>\n",
       "      <td>0.560035</td>\n",
       "      <td>0.298403</td>\n",
       "      <td>0.796132</td>\n",
       "      <td>-0.075753</td>\n",
       "      <td>0.754447</td>\n",
       "    </tr>\n",
       "    <tr>\n",
       "      <th>MinorAxisLength</th>\n",
       "      <td>0.907188</td>\n",
       "      <td>0.560035</td>\n",
       "      <td>1.044514</td>\n",
       "      <td>-0.234264</td>\n",
       "      <td>0.887002</td>\n",
       "      <td>0.345692</td>\n",
       "      <td>0.687978</td>\n",
       "    </tr>\n",
       "    <tr>\n",
       "      <th>Eccentricity</th>\n",
       "      <td>0.068332</td>\n",
       "      <td>0.298403</td>\n",
       "      <td>-0.234264</td>\n",
       "      <td>0.496892</td>\n",
       "      <td>0.081951</td>\n",
       "      <td>-0.251855</td>\n",
       "      <td>0.169057</td>\n",
       "    </tr>\n",
       "    <tr>\n",
       "      <th>ConvexArea</th>\n",
       "      <td>0.973028</td>\n",
       "      <td>0.796132</td>\n",
       "      <td>0.887002</td>\n",
       "      <td>0.081951</td>\n",
       "      <td>0.973215</td>\n",
       "      <td>0.136135</td>\n",
       "      <td>0.838439</td>\n",
       "    </tr>\n",
       "    <tr>\n",
       "      <th>Extent</th>\n",
       "      <td>0.195394</td>\n",
       "      <td>-0.075753</td>\n",
       "      <td>0.345692</td>\n",
       "      <td>-0.251855</td>\n",
       "      <td>0.136135</td>\n",
       "      <td>1.262287</td>\n",
       "      <td>-0.035001</td>\n",
       "    </tr>\n",
       "    <tr>\n",
       "      <th>Perimeter</th>\n",
       "      <td>0.820604</td>\n",
       "      <td>0.754447</td>\n",
       "      <td>0.687978</td>\n",
       "      <td>0.169057</td>\n",
       "      <td>0.838439</td>\n",
       "      <td>-0.035001</td>\n",
       "      <td>0.776528</td>\n",
       "    </tr>\n",
       "  </tbody>\n",
       "</table>\n",
       "</div>"
      ],
      "text/plain": [
       "                     Area  MajorAxisLength  MinorAxisLength  Eccentricity  \\\n",
       "Area             0.985847         0.782949         0.907188      0.068332   \n",
       "MajorAxisLength  0.782949         0.790014         0.560035      0.298403   \n",
       "MinorAxisLength  0.907188         0.560035         1.044514     -0.234264   \n",
       "Eccentricity     0.068332         0.298403        -0.234264      0.496892   \n",
       "ConvexArea       0.973028         0.796132         0.887002      0.081951   \n",
       "Extent           0.195394        -0.075753         0.345692     -0.251855   \n",
       "Perimeter        0.820604         0.754447         0.687978      0.169057   \n",
       "\n",
       "                 ConvexArea    Extent  Perimeter  \n",
       "Area               0.973028  0.195394   0.820604  \n",
       "MajorAxisLength    0.796132 -0.075753   0.754447  \n",
       "MinorAxisLength    0.887002  0.345692   0.687978  \n",
       "Eccentricity       0.081951 -0.251855   0.169057  \n",
       "ConvexArea         0.973215  0.136135   0.838439  \n",
       "Extent             0.136135  1.262287  -0.035001  \n",
       "Perimeter          0.838439 -0.035001   0.776528  "
      ]
     },
     "execution_count": 22,
     "metadata": {},
     "output_type": "execute_result"
    }
   ],
   "source": [
    "cov1 = (X_train_standard.iloc[N0:] - mean1).T @ (X_train_standard.iloc[N0:] - mean1)\n",
    "\n",
    "cov1 = cov1/N1\n",
    "cov1"
   ]
  },
  {
   "cell_type": "markdown",
   "metadata": {},
   "source": [
    "### Shared Covariance matrix\n",
    "\n",
    "$ covariance = \\frac{\\sum_{c=1}^{C}(N_c -1) * covariance_c}{\\sum(N_c -1)} $\\\n",
    "Here,\n",
    "C = number of classes"
   ]
  },
  {
   "cell_type": "code",
   "execution_count": 23,
   "metadata": {},
   "outputs": [
    {
     "data": {
      "text/html": [
       "<div>\n",
       "<style scoped>\n",
       "    .dataframe tbody tr th:only-of-type {\n",
       "        vertical-align: middle;\n",
       "    }\n",
       "\n",
       "    .dataframe tbody tr th {\n",
       "        vertical-align: top;\n",
       "    }\n",
       "\n",
       "    .dataframe thead th {\n",
       "        text-align: right;\n",
       "    }\n",
       "</style>\n",
       "<table border=\"1\" class=\"dataframe\">\n",
       "  <thead>\n",
       "    <tr style=\"text-align: right;\">\n",
       "      <th></th>\n",
       "      <th>Area</th>\n",
       "      <th>MajorAxisLength</th>\n",
       "      <th>MinorAxisLength</th>\n",
       "      <th>Eccentricity</th>\n",
       "      <th>ConvexArea</th>\n",
       "      <th>Extent</th>\n",
       "      <th>Perimeter</th>\n",
       "    </tr>\n",
       "  </thead>\n",
       "  <tbody>\n",
       "    <tr>\n",
       "      <th>Area</th>\n",
       "      <td>0.594809</td>\n",
       "      <td>0.497501</td>\n",
       "      <td>0.582011</td>\n",
       "      <td>0.064119</td>\n",
       "      <td>0.591369</td>\n",
       "      <td>0.086609</td>\n",
       "      <td>0.530251</td>\n",
       "    </tr>\n",
       "    <tr>\n",
       "      <th>MajorAxisLength</th>\n",
       "      <td>0.497501</td>\n",
       "      <td>0.531601</td>\n",
       "      <td>0.376655</td>\n",
       "      <td>0.284136</td>\n",
       "      <td>0.510636</td>\n",
       "      <td>-0.093280</td>\n",
       "      <td>0.516134</td>\n",
       "    </tr>\n",
       "    <tr>\n",
       "      <th>MinorAxisLength</th>\n",
       "      <td>0.582011</td>\n",
       "      <td>0.376655</td>\n",
       "      <td>0.743538</td>\n",
       "      <td>-0.241312</td>\n",
       "      <td>0.571763</td>\n",
       "      <td>0.220338</td>\n",
       "      <td>0.479207</td>\n",
       "    </tr>\n",
       "    <tr>\n",
       "      <th>Eccentricity</th>\n",
       "      <td>0.064119</td>\n",
       "      <td>0.284136</td>\n",
       "      <td>-0.241312</td>\n",
       "      <td>0.783575</td>\n",
       "      <td>0.076796</td>\n",
       "      <td>-0.285652</td>\n",
       "      <td>0.159627</td>\n",
       "    </tr>\n",
       "    <tr>\n",
       "      <th>ConvexArea</th>\n",
       "      <td>0.591369</td>\n",
       "      <td>0.510636</td>\n",
       "      <td>0.571763</td>\n",
       "      <td>0.076796</td>\n",
       "      <td>0.596594</td>\n",
       "      <td>0.044698</td>\n",
       "      <td>0.547087</td>\n",
       "    </tr>\n",
       "    <tr>\n",
       "      <th>Extent</th>\n",
       "      <td>0.086609</td>\n",
       "      <td>-0.093280</td>\n",
       "      <td>0.220338</td>\n",
       "      <td>-0.285652</td>\n",
       "      <td>0.044698</td>\n",
       "      <td>0.967261</td>\n",
       "      <td>-0.067746</td>\n",
       "    </tr>\n",
       "    <tr>\n",
       "      <th>Perimeter</th>\n",
       "      <td>0.530251</td>\n",
       "      <td>0.516134</td>\n",
       "      <td>0.479207</td>\n",
       "      <td>0.159627</td>\n",
       "      <td>0.547087</td>\n",
       "      <td>-0.067746</td>\n",
       "      <td>0.543306</td>\n",
       "    </tr>\n",
       "  </tbody>\n",
       "</table>\n",
       "</div>"
      ],
      "text/plain": [
       "                     Area  MajorAxisLength  MinorAxisLength  Eccentricity  \\\n",
       "Area             0.594809         0.497501         0.582011      0.064119   \n",
       "MajorAxisLength  0.497501         0.531601         0.376655      0.284136   \n",
       "MinorAxisLength  0.582011         0.376655         0.743538     -0.241312   \n",
       "Eccentricity     0.064119         0.284136        -0.241312      0.783575   \n",
       "ConvexArea       0.591369         0.510636         0.571763      0.076796   \n",
       "Extent           0.086609        -0.093280         0.220338     -0.285652   \n",
       "Perimeter        0.530251         0.516134         0.479207      0.159627   \n",
       "\n",
       "                 ConvexArea    Extent  Perimeter  \n",
       "Area               0.591369  0.086609   0.530251  \n",
       "MajorAxisLength    0.510636 -0.093280   0.516134  \n",
       "MinorAxisLength    0.571763  0.220338   0.479207  \n",
       "Eccentricity       0.076796 -0.285652   0.159627  \n",
       "ConvexArea         0.596594  0.044698   0.547087  \n",
       "Extent             0.044698  0.967261  -0.067746  \n",
       "Perimeter          0.547087 -0.067746   0.543306  "
      ]
     },
     "execution_count": 23,
     "metadata": {},
     "output_type": "execute_result"
    }
   ],
   "source": [
    "cov_shared = ((N0-1)*cov0 + (N1-1)*cov1) / ((N0-1) + (N1-1))\n",
    "cov_shared"
   ]
  },
  {
   "cell_type": "code",
   "execution_count": 24,
   "metadata": {},
   "outputs": [],
   "source": [
    "cov_shared_inv = np.linalg.inv(cov_shared)"
   ]
  },
  {
   "cell_type": "markdown",
   "metadata": {},
   "source": [
    "### Calculate $\\gamma$ for both classes\n",
    "\n",
    "$\\gamma_c = -0.5* \\mu_c^T * shared\\ covariance ^{-1} * \\mu_c + log(\\pi_c)$"
   ]
  },
  {
   "cell_type": "code",
   "execution_count": 25,
   "metadata": {},
   "outputs": [
    {
     "data": {
      "text/plain": [
       "-1.2666157584168314"
      ]
     },
     "execution_count": 25,
     "metadata": {},
     "output_type": "execute_result"
    }
   ],
   "source": [
    "gamma0 = -0.5* (mean0.T @ cov_shared_inv @ mean0) + np.log(prior0)\n",
    "gamma0"
   ]
  },
  {
   "cell_type": "code",
   "execution_count": 26,
   "metadata": {},
   "outputs": [
    {
     "data": {
      "text/plain": [
       "-1.2666157584168425"
      ]
     },
     "execution_count": 26,
     "metadata": {},
     "output_type": "execute_result"
    }
   ],
   "source": [
    "gamma1 = -0.5* (mean1.T @ cov_shared_inv @ mean1) + np.log(prior1)\n",
    "gamma1"
   ]
  },
  {
   "cell_type": "markdown",
   "metadata": {},
   "source": [
    "### Calculate $\\beta$ for both classes\n",
    "\n",
    "$\\beta_c = shared\\ covariance ^{-1} * \\mu_c $"
   ]
  },
  {
   "cell_type": "code",
   "execution_count": 27,
   "metadata": {},
   "outputs": [
    {
     "data": {
      "text/plain": [
       "array([-7.18116047,  1.3474777 ,  0.11627356, -0.360775  ,  9.25372734,\n",
       "        0.05769609, -4.82094483])"
      ]
     },
     "execution_count": 27,
     "metadata": {},
     "output_type": "execute_result"
    }
   ],
   "source": [
    "beta0 = cov_shared_inv @ mean0\n",
    "beta0"
   ]
  },
  {
   "cell_type": "code",
   "execution_count": 28,
   "metadata": {},
   "outputs": [
    {
     "data": {
      "text/plain": [
       "array([ 7.18116047, -1.3474777 , -0.11627356,  0.360775  , -9.25372734,\n",
       "       -0.05769609,  4.82094483])"
      ]
     },
     "execution_count": 28,
     "metadata": {},
     "output_type": "execute_result"
    }
   ],
   "source": [
    "beta1 = cov_shared_inv @ mean1\n",
    "beta1"
   ]
  },
  {
   "cell_type": "markdown",
   "metadata": {},
   "source": [
    "# Prediction\n",
    "\n",
    "After computing necessary parameters, each instance x is tested.\n",
    "\n",
    "$ probability = sigmoid(\\beta_1 - \\beta_0)^Tx + (\\gamma_1 - \\gamma_0)$\n",
    "\n",
    "This equation gives the probability between 0 and 1. Then, if it is greater than 0.5, it will be defined as class 1, and if it is less than 0.5, it will be defined as class 0."
   ]
  },
  {
   "cell_type": "markdown",
   "metadata": {},
   "source": [
    "## Sigmoid function \n",
    "$sigmoid(x) = \\frac {1} {1+exp(-x)} $"
   ]
  },
  {
   "cell_type": "code",
   "execution_count": 29,
   "metadata": {},
   "outputs": [],
   "source": [
    "def sigmoid(x):\n",
    "    return 1/(1 + np.exp(-x))"
   ]
  },
  {
   "cell_type": "code",
   "execution_count": 30,
   "metadata": {},
   "outputs": [],
   "source": [
    "def prediction_equation(x):\n",
    "    return sigmoid(((beta1 - beta0) @ x) + (gamma1 - gamma0))"
   ]
  },
  {
   "cell_type": "code",
   "execution_count": 31,
   "metadata": {},
   "outputs": [],
   "source": [
    "def prediction(X):\n",
    "    y_proba = np.array([])\n",
    "    y_pred = np.array([], dtype=np.int16)\n",
    "\n",
    "    for i in range(len(X)):\n",
    "        proba = prediction_equation(X.loc[i])\n",
    "\n",
    "        if proba > 0.5:\n",
    "            pred = 1\n",
    "        else:\n",
    "            pred = 0\n",
    "        y_proba = np.append(y_proba, proba)\n",
    "        y_pred =np.append(y_pred, pred)\n",
    "    return y_proba, y_pred"
   ]
  },
  {
   "cell_type": "markdown",
   "metadata": {},
   "source": [
    "# Evaluation Matrices\n",
    "\n",
    "The following evaluation matrices are used to evaluate the LDA model:\n",
    "* accuracy = (TN + TP)/ N\n",
    "* sensitivity = TP / (TP + FN)\n",
    "* specificity = TN / (TN + FP)\n",
    "* precision = TP / (TP + FP)\n",
    "* f1-score = $2*\\frac{precision * sensitivity} {precision + sensitivity}$\n",
    "* log loss = $- \\frac{1}{N} * \\sum_{i}^{N} [y_i*ln(p_i) + (1-y_i)*ln(1-p_i)]$\n",
    "\n",
    "Here,\n",
    "\n",
    "TP= True Positive\\\n",
    "TN= True Negative\\\n",
    "FP= False Positive\\\n",
    "FN= False Negative\\\n",
    "$y_i$ = ground truth of instance i\\\n",
    "$p_i$ = probability of instance of i"
   ]
  },
  {
   "cell_type": "code",
   "execution_count": 32,
   "metadata": {},
   "outputs": [],
   "source": [
    "def compute_confusion_matrix(true, pred):\n",
    "    '''Computes a confusion matrix using numpy.'''\n",
    "\n",
    "    K = len(np.unique(true)) # Number of classes \n",
    "    result = np.zeros((K, K))\n",
    "\n",
    "    for i in range(len(true)):\n",
    "        result[true[i]][pred[i]] += 1\n",
    "\n",
    "    return result"
   ]
  },
  {
   "cell_type": "code",
   "execution_count": 33,
   "metadata": {},
   "outputs": [],
   "source": [
    "def accuracy(conf_matrix):\n",
    "    tn, fp, fn, tp = conf_matrix.ravel()\n",
    "    return (tp+tn)/(tp+tn+fp+fn) "
   ]
  },
  {
   "cell_type": "code",
   "execution_count": 34,
   "metadata": {},
   "outputs": [],
   "source": [
    "def sensitivity(conf_matrix):\n",
    "    tn, fp, fn, tp = conf_matrix.ravel()\n",
    "    return tp/(tp+fn)   "
   ]
  },
  {
   "cell_type": "code",
   "execution_count": 35,
   "metadata": {},
   "outputs": [],
   "source": [
    "def specificity(conf_matrix):\n",
    "    tn, fp, fn, tp = conf_matrix.ravel()\n",
    "    return tn/(tn+fp) "
   ]
  },
  {
   "cell_type": "code",
   "execution_count": 36,
   "metadata": {},
   "outputs": [],
   "source": [
    "def precision(conf_matrix):\n",
    "    tn, fp, fn, tp = conf_matrix.ravel()\n",
    "    return tp/(tp+fp) "
   ]
  },
  {
   "cell_type": "code",
   "execution_count": 37,
   "metadata": {},
   "outputs": [],
   "source": [
    "def f1_score(conf_matrix):\n",
    "    tn, fp, fn, tp = conf_matrix.ravel()\n",
    "    precision = tp/(tp+fp)\n",
    "    recall = tp/(tp+fn)\n",
    "    f1_score = 2 * (precision * recall)/(precision + recall)\n",
    "    return f1_score"
   ]
  },
  {
   "cell_type": "code",
   "execution_count": 38,
   "metadata": {},
   "outputs": [],
   "source": [
    "def log_loss(ground_truth, y_proba):\n",
    "    log_loss = -((ground_truth * np.log(y_proba)) + ((1-ground_truth) * np.log(1-y_proba))).mean()\n",
    "    return log_loss"
   ]
  },
  {
   "cell_type": "markdown",
   "metadata": {},
   "source": [
    "## Evaluation matrices for train set"
   ]
  },
  {
   "cell_type": "code",
   "execution_count": 39,
   "metadata": {},
   "outputs": [
    {
     "data": {
      "text/plain": [
       "array([[313.,  47.],\n",
       "       [ 51., 309.]])"
      ]
     },
     "execution_count": 39,
     "metadata": {},
     "output_type": "execute_result"
    }
   ],
   "source": [
    "y_train_proba, y_train_pred = prediction(X_train_standard)\n",
    "\n",
    "conf_matrix_train = compute_confusion_matrix(y_train.to_numpy(), y_train_pred)\n",
    "conf_matrix_train"
   ]
  },
  {
   "cell_type": "code",
   "execution_count": 40,
   "metadata": {},
   "outputs": [
    {
     "data": {
      "text/plain": [
       "0.8638888888888889"
      ]
     },
     "execution_count": 40,
     "metadata": {},
     "output_type": "execute_result"
    }
   ],
   "source": [
    "accuracy(conf_matrix_train)"
   ]
  },
  {
   "cell_type": "code",
   "execution_count": 41,
   "metadata": {},
   "outputs": [
    {
     "data": {
      "text/plain": [
       "0.8583333333333333"
      ]
     },
     "execution_count": 41,
     "metadata": {},
     "output_type": "execute_result"
    }
   ],
   "source": [
    "sensitivity(conf_matrix_train)"
   ]
  },
  {
   "cell_type": "code",
   "execution_count": 42,
   "metadata": {},
   "outputs": [
    {
     "data": {
      "text/plain": [
       "0.8694444444444445"
      ]
     },
     "execution_count": 42,
     "metadata": {},
     "output_type": "execute_result"
    }
   ],
   "source": [
    "specificity(conf_matrix_train)"
   ]
  },
  {
   "cell_type": "code",
   "execution_count": 43,
   "metadata": {},
   "outputs": [
    {
     "data": {
      "text/plain": [
       "0.8631284916201116"
      ]
     },
     "execution_count": 43,
     "metadata": {},
     "output_type": "execute_result"
    }
   ],
   "source": [
    "f1_score(conf_matrix_train)"
   ]
  },
  {
   "cell_type": "code",
   "execution_count": 44,
   "metadata": {},
   "outputs": [
    {
     "data": {
      "text/plain": [
       "0.32903534847857036"
      ]
     },
     "execution_count": 44,
     "metadata": {},
     "output_type": "execute_result"
    }
   ],
   "source": [
    "log_loss(y_train, y_train_proba)"
   ]
  },
  {
   "cell_type": "markdown",
   "metadata": {},
   "source": [
    "## Evaluation matrices for test set"
   ]
  },
  {
   "cell_type": "code",
   "execution_count": 45,
   "metadata": {},
   "outputs": [
    {
     "data": {
      "text/plain": [
       "array([[81.,  9.],\n",
       "       [21., 69.]])"
      ]
     },
     "execution_count": 45,
     "metadata": {},
     "output_type": "execute_result"
    }
   ],
   "source": [
    "y_test_proba, y_test_pred = prediction(X_test_standard)\n",
    "\n",
    "conf_matrix_test = compute_confusion_matrix(y_test.to_numpy(), y_test_pred)\n",
    "conf_matrix_test"
   ]
  },
  {
   "cell_type": "code",
   "execution_count": 46,
   "metadata": {},
   "outputs": [
    {
     "data": {
      "text/plain": [
       "0.8333333333333334"
      ]
     },
     "execution_count": 46,
     "metadata": {},
     "output_type": "execute_result"
    }
   ],
   "source": [
    "accuracy(conf_matrix_test)"
   ]
  },
  {
   "cell_type": "code",
   "execution_count": 47,
   "metadata": {},
   "outputs": [
    {
     "data": {
      "text/plain": [
       "0.7666666666666667"
      ]
     },
     "execution_count": 47,
     "metadata": {},
     "output_type": "execute_result"
    }
   ],
   "source": [
    "sensitivity(conf_matrix_test)"
   ]
  },
  {
   "cell_type": "code",
   "execution_count": 48,
   "metadata": {},
   "outputs": [
    {
     "data": {
      "text/plain": [
       "0.9"
      ]
     },
     "execution_count": 48,
     "metadata": {},
     "output_type": "execute_result"
    }
   ],
   "source": [
    "specificity(conf_matrix_test)"
   ]
  },
  {
   "cell_type": "code",
   "execution_count": 49,
   "metadata": {},
   "outputs": [
    {
     "data": {
      "text/plain": [
       "0.8214285714285715"
      ]
     },
     "execution_count": 49,
     "metadata": {},
     "output_type": "execute_result"
    }
   ],
   "source": [
    "f1_score(conf_matrix_test)"
   ]
  },
  {
   "cell_type": "code",
   "execution_count": 50,
   "metadata": {},
   "outputs": [
    {
     "data": {
      "text/plain": [
       "0.4196755531592171"
      ]
     },
     "execution_count": 50,
     "metadata": {},
     "output_type": "execute_result"
    }
   ],
   "source": [
    "log_loss(y_test, y_test_proba)"
   ]
  },
  {
   "cell_type": "code",
   "execution_count": null,
   "metadata": {},
   "outputs": [],
   "source": []
  }
 ],
 "metadata": {
  "kernelspec": {
   "display_name": "Python 3",
   "language": "python",
   "name": "python3"
  },
  "language_info": {
   "codemirror_mode": {
    "name": "ipython",
    "version": 3
   },
   "file_extension": ".py",
   "mimetype": "text/x-python",
   "name": "python",
   "nbconvert_exporter": "python",
   "pygments_lexer": "ipython3",
   "version": "3.7.4"
  }
 },
 "nbformat": 4,
 "nbformat_minor": 5
}
